{
 "cells": [
  {
   "cell_type": "markdown",
   "metadata": {},
   "source": [
    "# Laboratorio 8    \n",
    "## Inteligencia Artificial\n",
    "\n",
    "**Integrantes**\n",
    "- Gabriel García    - 21352     \n",
    "- Diego Leiva       - 21752   \n",
    "- Pablo Orellana    - xd"
   ]
  },
  {
   "cell_type": "markdown",
   "metadata": {},
   "source": [
    "----\n",
    "\n",
    "## Task 1: Teoría\n",
    "1. Investigar el algoritmo AC-3 y su relacion con el algoritmo de backtracking search       \n",
    "\n",
    "El algormitmo AC-3 (Algoritmo de conssitencia de Arcos-3) Se utiliza en resolucion de problemas de restricción para reducir el dominio de las variables. Se centra en eliminar los valores incosistentes de las variables basandose en restricciones binarias. AC-3 se relaciona con el algoritmo de backtracking search en el sentido de que AC-3 se utiliza a menudo con el preprocesamiento para reducir el espacio de busqueda antes de aplicar backtracking search. AC-3 ayuda a identificar y eliminar las inconsistencias temprano, lo que puede reducir significativamente el tiempo de busqueda en el algoritmo de backtracking (GeeksforGeeks, 2023).     \n",
    "\n",
    "2. Defina en sus propias palabras el termino \"Arc Consistency\"     \n",
    "\n",
    "Arc Consistency se refiere a la propiedad en un problema de restricción donde los valores en el dominio de una variable son consistentes con las restricciones binarias que tienen con otras variables. Es decir, un arco (una conexion entre dos variables) se considera consistente si para el valor en el dominio de la variable A, hay al menos un valor en el dominio de la variable B que satisface la restricción binaria entre A y B. Por lo que podemos concluir que \"Arc Consistency\" es una medida de que tan restringido es el dominio de una variable basándose en las restricciones binarias que tienen con otras variables en un problema de restricción (British Columbia University, 2009).  \n",
    "\n",
    "\n",
    "\n",
    "Referencias\n",
    "- GeeksforGeeks. (2023, 20 de octubre). Backtracking Algorithms. GeeksforGeeks. https://www.geeksforgeeks.org/backtracking-algorithms/\n",
    "\n",
    "- British Columbia University. (2009, 10). CSP3: Backtracking Search. Department of Computer Science. https://www.cs.ubc.ca/~kevinlb/teaching/cs322%20-%202009-10/Lectures/CSP3.pdf"
   ]
  },
  {
   "cell_type": "markdown",
   "metadata": {},
   "source": [
    "----\n",
    "\n",
    "## Task 2: CSP con Backtracking, Beam y Local Search"
   ]
  },
  {
   "cell_type": "markdown",
   "metadata": {},
   "source": [
    "**Importar librerias**"
   ]
  },
  {
   "cell_type": "code",
   "execution_count": 1,
   "metadata": {},
   "outputs": [],
   "source": [
    "import pandas as pd\n",
    "import random\n",
    "import itertools\n",
    "import time"
   ]
  },
  {
   "cell_type": "markdown",
   "metadata": {},
   "source": [
    "**Definicion del Problema**\n",
    "\n",
    "Calendarizacion de exámenes para cuatro estudiantes que toman siete exámenes diferentes. El problema implica calendarizar los exámenes para los estudiantes respetando diversas limitaciones y preferencias.\n",
    "\n",
    "Restricciones:\n",
    "- Todos los exámenes deberán realizarse en días diferentes, concretamente lunes, martes y miércoles.\n",
    "- Ningún estudiante deberá tener más de un examen por día.\n",
    "- Los estudiantes que toman el mismo curso no pueden tener exámenes programados para el mismo día."
   ]
  },
  {
   "cell_type": "code",
   "execution_count": 2,
   "metadata": {},
   "outputs": [],
   "source": [
    "# Datos del problema\n",
    "\n",
    "estudiantes = ['Estudiante 1', 'Estudiante 2', 'Estudiante 3', 'Estudiante 4']              # Lista de estudiantes\n",
    "dias = ['Lunes', 'Martes', 'Miercoles']                                                     # Lista de días                         \n",
    "cursos = ['Curso 1', 'Curso 2', 'Curso 3', 'Curso 4', 'Curso 5', 'Curso 6', 'Curso 7']      # Lista de los examenes"
   ]
  },
  {
   "cell_type": "markdown",
   "metadata": {},
   "source": [
    "### Algoritmo Backtrack"
   ]
  },
  {
   "cell_type": "code",
   "execution_count": 3,
   "metadata": {},
   "outputs": [
    {
     "data": {
      "text/html": [
       "<div>\n",
       "<style scoped>\n",
       "    .dataframe tbody tr th:only-of-type {\n",
       "        vertical-align: middle;\n",
       "    }\n",
       "\n",
       "    .dataframe tbody tr th {\n",
       "        vertical-align: top;\n",
       "    }\n",
       "\n",
       "    .dataframe thead th {\n",
       "        text-align: right;\n",
       "    }\n",
       "</style>\n",
       "<table border=\"1\" class=\"dataframe\">\n",
       "  <thead>\n",
       "    <tr style=\"text-align: right;\">\n",
       "      <th></th>\n",
       "      <th>Lunes</th>\n",
       "      <th>Martes</th>\n",
       "      <th>Miercoles</th>\n",
       "    </tr>\n",
       "  </thead>\n",
       "  <tbody>\n",
       "    <tr>\n",
       "      <th>Estudiante 1</th>\n",
       "      <td>Curso 1</td>\n",
       "      <td>Curso 2</td>\n",
       "      <td>Curso 3</td>\n",
       "    </tr>\n",
       "    <tr>\n",
       "      <th>Estudiante 2</th>\n",
       "      <td>Curso 2</td>\n",
       "      <td>Curso 1</td>\n",
       "      <td>Curso 4</td>\n",
       "    </tr>\n",
       "    <tr>\n",
       "      <th>Estudiante 3</th>\n",
       "      <td>Curso 3</td>\n",
       "      <td>Curso 4</td>\n",
       "      <td>Curso 1</td>\n",
       "    </tr>\n",
       "    <tr>\n",
       "      <th>Estudiante 4</th>\n",
       "      <td>Curso 4</td>\n",
       "      <td>Curso 3</td>\n",
       "      <td>Curso 2</td>\n",
       "    </tr>\n",
       "  </tbody>\n",
       "</table>\n",
       "</div>"
      ],
      "text/plain": [
       "                Lunes   Martes Miercoles\n",
       "Estudiante 1  Curso 1  Curso 2   Curso 3\n",
       "Estudiante 2  Curso 2  Curso 1   Curso 4\n",
       "Estudiante 3  Curso 3  Curso 4   Curso 1\n",
       "Estudiante 4  Curso 4  Curso 3   Curso 2"
      ]
     },
     "execution_count": 3,
     "metadata": {},
     "output_type": "execute_result"
    }
   ],
   "source": [
    "# Crear las variables y dominios\n",
    "variables = [(student, day) for student in estudiantes for day in dias]\n",
    "dominios = {var: cursos for var in variables}  # Todos los cursos están disponibles para todos inicialmente\n",
    "\n",
    "# Funciones para el algoritmo Backtracking\n",
    "def backtrack(assignment):\n",
    "    if len(assignment) == len(variables):\n",
    "        return assignment\n",
    "\n",
    "    var = select_unassigned_variable(assignment)\n",
    "    for value in order_domain_values(var, assignment):\n",
    "        if is_consistent(var, value, assignment):\n",
    "            assignment[var] = value\n",
    "            result = backtrack(assignment)\n",
    "            if result is not None:\n",
    "                return result\n",
    "            del assignment[var]\n",
    "    return None\n",
    "\n",
    "def select_unassigned_variable(assignment):\n",
    "    for var in variables:\n",
    "        if var not in assignment:\n",
    "            return var\n",
    "\n",
    "def order_domain_values(var, assignment):\n",
    "    student, _ = var\n",
    "    taken_courses = [value for (s, _), value in assignment.items() if s == student]\n",
    "    return [course for course in dominios[var] if course not in taken_courses]\n",
    "\n",
    "def is_consistent(var, value, assignment):\n",
    "    student, day = var\n",
    "    for (other_student, other_day), other_course in assignment.items():\n",
    "        if other_day == day and other_course == value and student != other_student:\n",
    "            return False\n",
    "    return True\n",
    "\n",
    "# Resolver el problema CSP\n",
    "asignacion_backtrack = {}\n",
    "solucion_backtrack = backtrack(asignacion_backtrack)\n",
    "\n",
    "# Crear y llenar la matriz de horarios\n",
    "backtrack_matrix = pd.DataFrame(index=estudiantes, columns=dias)\n",
    "if solucion_backtrack:\n",
    "    for (student, day), course in solucion_backtrack.items():\n",
    "        backtrack_matrix.at[student, day] = course\n",
    "\n",
    "# Imprimir la matriz de horarios\n",
    "backtrack_matrix"
   ]
  },
  {
   "cell_type": "markdown",
   "metadata": {},
   "source": [
    "### Algoritmo Beam Search"
   ]
  },
  {
   "cell_type": "code",
   "execution_count": 4,
   "metadata": {},
   "outputs": [
    {
     "data": {
      "text/html": [
       "<div>\n",
       "<style scoped>\n",
       "    .dataframe tbody tr th:only-of-type {\n",
       "        vertical-align: middle;\n",
       "    }\n",
       "\n",
       "    .dataframe tbody tr th {\n",
       "        vertical-align: top;\n",
       "    }\n",
       "\n",
       "    .dataframe thead th {\n",
       "        text-align: right;\n",
       "    }\n",
       "</style>\n",
       "<table border=\"1\" class=\"dataframe\">\n",
       "  <thead>\n",
       "    <tr style=\"text-align: right;\">\n",
       "      <th></th>\n",
       "      <th>Lunes</th>\n",
       "      <th>Martes</th>\n",
       "      <th>Miercoles</th>\n",
       "    </tr>\n",
       "  </thead>\n",
       "  <tbody>\n",
       "    <tr>\n",
       "      <th>Estudiante 1</th>\n",
       "      <td>Curso 5</td>\n",
       "      <td>Curso 2</td>\n",
       "      <td>Curso 6</td>\n",
       "    </tr>\n",
       "    <tr>\n",
       "      <th>Estudiante 2</th>\n",
       "      <td>Curso 7</td>\n",
       "      <td>Curso 2</td>\n",
       "      <td>Curso 6</td>\n",
       "    </tr>\n",
       "    <tr>\n",
       "      <th>Estudiante 3</th>\n",
       "      <td>Curso 3</td>\n",
       "      <td>Curso 4</td>\n",
       "      <td>Curso 1</td>\n",
       "    </tr>\n",
       "    <tr>\n",
       "      <th>Estudiante 4</th>\n",
       "      <td>Curso 6</td>\n",
       "      <td>Curso 4</td>\n",
       "      <td>Curso 5</td>\n",
       "    </tr>\n",
       "  </tbody>\n",
       "</table>\n",
       "</div>"
      ],
      "text/plain": [
       "                Lunes   Martes Miercoles\n",
       "Estudiante 1  Curso 5  Curso 2   Curso 6\n",
       "Estudiante 2  Curso 7  Curso 2   Curso 6\n",
       "Estudiante 3  Curso 3  Curso 4   Curso 1\n",
       "Estudiante 4  Curso 6  Curso 4   Curso 5"
      ]
     },
     "execution_count": 4,
     "metadata": {},
     "output_type": "execute_result"
    }
   ],
   "source": [
    "# Inicializar una asignación aleatoria\n",
    "def inicializar_asignacion():\n",
    "    asignacion = {}\n",
    "    for estudiante in estudiantes:\n",
    "        asignacion[estudiante] = random.sample(cursos, 3)\n",
    "    return asignacion\n",
    "\n",
    "\n",
    "# Función para verificar si una asignación es válida\n",
    "def es_valida(asignacion):\n",
    "    # Comprobar si dos estudiantes tienen el mismo examen el mismo día\n",
    "    for dia_idx in range(3):  # 0 para lunes, 1 para martes, 2 para miércoles\n",
    "        dia_cursos = [asignacion[est][dia_idx] for est in asignacion]\n",
    "        if len(dia_cursos) != len(set(dia_cursos)):  # Si hay duplicados, no es válida\n",
    "            return False\n",
    "    return True\n",
    "\n",
    "# Generar estados sucesores\n",
    "def generar_sucesores(asignacion):\n",
    "    sucesores = []\n",
    "    for estudiante, cursos_asignados in asignacion.items():\n",
    "        for dia_idx in range(3):\n",
    "            for curso in cursos:\n",
    "                # Crear un nuevo estado cambiando el curso de un día\n",
    "                nuevo_estado = {e: c[:] for e, c in asignacion.items()}  # Copiar el estado\n",
    "                if curso not in cursos_asignados:  # Evitar asignar el mismo curso dos veces al mismo estudiante\n",
    "                    nuevo_estado[estudiante][dia_idx] = curso\n",
    "                    if es_valida(nuevo_estado):\n",
    "                        sucesores.append(nuevo_estado)\n",
    "    return sucesores\n",
    "\n",
    "# Función de evaluación: contar el número de conflictos\n",
    "def evaluar(asignacion):\n",
    "    conflictos = 0\n",
    "    for dia_idx in range(3):\n",
    "        dia_cursos = [asignacion[est][dia_idx] for est in asignacion]\n",
    "        conflictos += len(dia_cursos) - len(set(dia_cursos))  # Contar duplicados\n",
    "    return conflictos\n",
    "\n",
    "# Beam Search\n",
    "def beam_search(k):\n",
    "    estado_actual = [inicializar_asignacion() for _ in range(k)]\n",
    "    while True:\n",
    "        todos_sucesores = list(itertools.chain(*[generar_sucesores(est) for est in estado_actual]))\n",
    "        if not todos_sucesores:\n",
    "            break\n",
    "        estado_actual = sorted(todos_sucesores, key=lambda est: evaluar(est))[:k]\n",
    "        if evaluar(estado_actual[0]) == 0:\n",
    "            return estado_actual[0]\n",
    "    return estado_actual[0] if estado_actual else None\n",
    "\n",
    "\n",
    "# Ejecutar beam search\n",
    "solucion_beam = beam_search(4)  # k es el ancho del haz\n",
    "\n",
    "\n",
    "# Crear un DataFrame para representar la asignación\n",
    "beam_matrix = pd.DataFrame(solucion_beam).T  # Transponemos para tener a los estudiantes como filas\n",
    "beam_matrix.columns = dias  # Establecer los días como columnas\n",
    "\n",
    "# Imprimir la solución\n",
    "beam_matrix"
   ]
  },
  {
   "cell_type": "markdown",
   "metadata": {},
   "source": [
    "### Algoritmo Local Search"
   ]
  },
  {
   "cell_type": "code",
   "execution_count": 5,
   "metadata": {},
   "outputs": [
    {
     "data": {
      "text/html": [
       "<div>\n",
       "<style scoped>\n",
       "    .dataframe tbody tr th:only-of-type {\n",
       "        vertical-align: middle;\n",
       "    }\n",
       "\n",
       "    .dataframe tbody tr th {\n",
       "        vertical-align: top;\n",
       "    }\n",
       "\n",
       "    .dataframe thead th {\n",
       "        text-align: right;\n",
       "    }\n",
       "</style>\n",
       "<table border=\"1\" class=\"dataframe\">\n",
       "  <thead>\n",
       "    <tr style=\"text-align: right;\">\n",
       "      <th></th>\n",
       "      <th>Lunes</th>\n",
       "      <th>Martes</th>\n",
       "      <th>Miercoles</th>\n",
       "    </tr>\n",
       "  </thead>\n",
       "  <tbody>\n",
       "    <tr>\n",
       "      <th>Estudiante 1</th>\n",
       "      <td>Curso 4</td>\n",
       "      <td>Curso 1</td>\n",
       "      <td>Curso 6</td>\n",
       "    </tr>\n",
       "    <tr>\n",
       "      <th>Estudiante 2</th>\n",
       "      <td>Curso 1</td>\n",
       "      <td>Curso 7</td>\n",
       "      <td>Curso 3</td>\n",
       "    </tr>\n",
       "    <tr>\n",
       "      <th>Estudiante 3</th>\n",
       "      <td>Curso 3</td>\n",
       "      <td>Curso 4</td>\n",
       "      <td>Curso 5</td>\n",
       "    </tr>\n",
       "    <tr>\n",
       "      <th>Estudiante 4</th>\n",
       "      <td>Curso 5</td>\n",
       "      <td>Curso 3</td>\n",
       "      <td>Curso 7</td>\n",
       "    </tr>\n",
       "  </tbody>\n",
       "</table>\n",
       "</div>"
      ],
      "text/plain": [
       "                Lunes   Martes Miercoles\n",
       "Estudiante 1  Curso 4  Curso 1   Curso 6\n",
       "Estudiante 2  Curso 1  Curso 7   Curso 3\n",
       "Estudiante 3  Curso 3  Curso 4   Curso 5\n",
       "Estudiante 4  Curso 5  Curso 3   Curso 7"
      ]
     },
     "execution_count": 5,
     "metadata": {},
     "output_type": "execute_result"
    }
   ],
   "source": [
    "# Inicialización aleatoria de la asignación de exámenes\n",
    "asignacion_local = {estudiante: random.sample(cursos, len(dias)) for estudiante in estudiantes}\n",
    "\n",
    "def contar_conflictos(asignacion):\n",
    "    conflictos = 0\n",
    "    # Verificar conflictos entre estudiantes para cada día\n",
    "    for dia in range(len(dias)):\n",
    "        cursos_dia = [asignacion[estudiante][dia] for estudiante in estudiantes]\n",
    "        conflictos += len(cursos_dia) - len(set(cursos_dia))  # Cursos duplicados indican conflictos\n",
    "    return conflictos\n",
    "\n",
    "def local_search(asignacion):\n",
    "    iteraciones = 0\n",
    "    while True:\n",
    "        iteraciones += 1\n",
    "        conflictos_actual = contar_conflictos(asignacion)\n",
    "        if conflictos_actual == 0:\n",
    "            break  # Salir si no hay conflictos\n",
    "\n",
    "        # Intentar un cambio aleatorio para reducir los conflictos\n",
    "        estudiante_aleatorio = random.choice(estudiantes)\n",
    "        dia_aleatorio = random.randint(0, len(dias) - 1)\n",
    "        curso_actual = asignacion[estudiante_aleatorio][dia_aleatorio]\n",
    "        nuevo_curso = random.choice([curso for curso in cursos if curso not in asignacion[estudiante_aleatorio]])\n",
    "        asignacion[estudiante_aleatorio][dia_aleatorio] = nuevo_curso\n",
    "\n",
    "        # Evaluar si el cambio redujo los conflictos\n",
    "        nuevos_conflictos = contar_conflictos(asignacion)\n",
    "        if nuevos_conflictos > conflictos_actual:\n",
    "            # Revertir el cambio si no se redujeron los conflictos\n",
    "            asignacion[estudiante_aleatorio][dia_aleatorio] = curso_actual\n",
    "        \n",
    "        # Limitar el número de iteraciones para evitar un bucle infinito\n",
    "        if iteraciones > 1000:\n",
    "            break\n",
    "\n",
    "    return asignacion, iteraciones\n",
    "\n",
    "asignacion_final, iteraciones = local_search(asignacion_local)\n",
    "\n",
    "# Convertir la asignación final a una estructura de datos adecuada para crear un DataFrame\n",
    "data = {dia: [asignacion_final[estudiante][i] for estudiante in estudiantes] for i, dia in enumerate(dias)}\n",
    "\n",
    "# Crear el DataFrame usando Pandas\n",
    "local_matrix = pd.DataFrame(data, index=estudiantes)\n",
    "\n",
    "local_matrix"
   ]
  },
  {
   "cell_type": "markdown",
   "metadata": {},
   "source": [
    "## Rendimiento de los algoritmos"
   ]
  },
  {
   "cell_type": "markdown",
   "metadata": {},
   "source": [
    "**Medicion de tiempo de ejecucion**"
   ]
  },
  {
   "cell_type": "code",
   "execution_count": 6,
   "metadata": {},
   "outputs": [],
   "source": [
    "def profile_function(funcion, *args, n=1000):\n",
    "    tiempos = []\n",
    "    for _ in range(n):\n",
    "        inicio = time.time()\n",
    "        funcion(*args)\n",
    "        fin = time.time()\n",
    "        tiempos.append(fin - inicio)\n",
    "    return tiempos"
   ]
  },
  {
   "cell_type": "markdown",
   "metadata": {},
   "source": [
    "**Obtener tiempos promedio de ejecucion**"
   ]
  },
  {
   "cell_type": "code",
   "execution_count": 7,
   "metadata": {},
   "outputs": [],
   "source": [
    "def analizar_tiempos(metodo, tiempos):\n",
    "    promedio = sum(tiempos) / len(tiempos)\n",
    "    print(f\"Tiempo promedio de ejecución para {metodo}: {promedio} segundos.\")"
   ]
  },
  {
   "cell_type": "markdown",
   "metadata": {},
   "source": [
    "**Evaluando Backtracking**"
   ]
  },
  {
   "cell_type": "code",
   "execution_count": 11,
   "metadata": {},
   "outputs": [
    {
     "name": "stdout",
     "output_type": "stream",
     "text": [
      "Tiempo promedio de ejecución para Backtrack: 1.0001659393310548e-06 segundos.\n"
     ]
    }
   ],
   "source": [
    "tiempos_backtrack = profile_function(backtrack, {})\n",
    "analizar_tiempos('Backtrack', tiempos_backtrack)"
   ]
  },
  {
   "cell_type": "markdown",
   "metadata": {},
   "source": [
    "**Evaluando Beam Search**"
   ]
  },
  {
   "cell_type": "code",
   "execution_count": 9,
   "metadata": {},
   "outputs": [
    {
     "name": "stdout",
     "output_type": "stream",
     "text": [
      "Tiempo promedio de ejecución para Beam Search: 0.00032730770111083984 segundos.\n"
     ]
    }
   ],
   "source": [
    "tiempos_beam_search = profile_function(beam_search, 4)\n",
    "analizar_tiempos('Beam Search', tiempos_beam_search)"
   ]
  },
  {
   "cell_type": "markdown",
   "metadata": {},
   "source": [
    "**Evaluando Local Search**"
   ]
  },
  {
   "cell_type": "code",
   "execution_count": 10,
   "metadata": {},
   "outputs": [
    {
     "name": "stdout",
     "output_type": "stream",
     "text": [
      "Tiempo promedio de ejecución para Local Search: 5.644416809082031e-05 segundos.\n"
     ]
    }
   ],
   "source": [
    "def ejecutar_local_search():\n",
    "    asignacion_local = {estudiante: random.sample(cursos, len(dias)) for estudiante in estudiantes}\n",
    "    return local_search(asignacion_local)\n",
    "\n",
    "tiempos_local_search = profile_function(ejecutar_local_search)\n",
    "analizar_tiempos('Local Search', tiempos_local_search)"
   ]
  },
  {
   "cell_type": "markdown",
   "metadata": {},
   "source": [
    "## Análisis comparativo de algoritmos"
   ]
  },
  {
   "cell_type": "markdown",
   "metadata": {},
   "source": [
    "**Resultados de tiempos de ejecucion**\n",
    "\n",
    "- Backtrack: Tiempo promedio de ejecución 1.000×10E−06 segundos.\n",
    "- Beam Search: Tiempo promedio de ejecución 3.273×10E−04 segundos.\n",
    "- Local Search: Tiempo promedio de ejecución 5.644×10E−05 segundos."
   ]
  },
  {
   "cell_type": "markdown",
   "metadata": {},
   "source": [
    "**Comparación entre algoritmos**\n",
    "\n",
    "El algoritmo Backtrack demostró ser el más rápido, lo cual es esperado en escenarios donde el espacio de búsqueda no es excesivamente grande, ya que explora exhaustivamente todas las posibilidades hasta encontrar una solución.\n",
    "Beam Search, siendo una búsqueda heurística, mostró tiempos mayores comparado con Backtrack. Esto puede deberse a la exploración parcial del espacio de búsqueda que realiza, guiada por la heurística que prioriza ciertos nodos.\n",
    "Local Search tuvo un rendimiento intermedio, lo cual sugiere que para este problema específico y la configuración dada, encontró soluciones de manera eficiente pero sin ser la más rápida. Esto puede ser debido a la naturaleza estocástica del algoritmo y su dependencia de la calidad de la asignación inicial.\n",
    "\n",
    "Por otro lado en cuanto a las soluciones encontradas Backtracking obtuvo en todas sus iteraciones la misma solución, mientras que los otros dos algoritmos (beam y local search) encontraron mas de una posible solución al problema.\n",
    "En todos los casos las soluciones encontradas cumplen con las restricciones impuestas al principio en el problema."
   ]
  },
  {
   "cell_type": "markdown",
   "metadata": {},
   "source": [
    "**Conclusiones**\n",
    "- Backtrack es altamente efectivo para espacios de búsqueda limitados pero puede no escalar bien con problemas más grandes.\n",
    "- Beam Search ofrece un compromiso entre calidad de solución y tiempo de ejecución, siendo más adecuado para problemas donde una solución exacta no es crítica.\n",
    "- Local Search es útil para espacios de búsqueda grandes donde una solución aproximada es aceptable, aunque su rendimiento puede variar significativamente dependiendo de la asignación inicial."
   ]
  }
 ],
 "metadata": {
  "kernelspec": {
   "display_name": "base",
   "language": "python",
   "name": "python3"
  },
  "language_info": {
   "codemirror_mode": {
    "name": "ipython",
    "version": 3
   },
   "file_extension": ".py",
   "mimetype": "text/x-python",
   "name": "python",
   "nbconvert_exporter": "python",
   "pygments_lexer": "ipython3",
   "version": "3.11.6"
  }
 },
 "nbformat": 4,
 "nbformat_minor": 2
}
