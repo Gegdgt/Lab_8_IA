{
 "cells": [
  {
   "cell_type": "markdown",
   "metadata": {},
   "source": [
    "## Laboratorio 8    \n",
    "Gabriel García - 21352     \n",
    "Diego Leiva   \n",
    "Pablo Orellana"
   ]
  },
  {
   "cell_type": "markdown",
   "metadata": {},
   "source": [
    "## Task 1\n",
    "1. Investigar el algoritmo AC-3 y su relacion con el algoritmo de backtracking search       \n",
    "\n",
    "El algormitmo AC-3 (Algoritmo de conssitencia de Arcos-3) Se utiliza en resolucion de problemas de restricción para reducir el dominio de las variables. Se centra en eliminar los valores incosistentes de las variables basandose en restricciones binarias. AC-3 se relaciona con el algoritmo de backtracking search en el sentido de que AC-3 se utiliza a menudo con el preprocesamiento para reducir el espacio de busqueda antes de aplicar backtracking search. AC-3 ayuda a identificar y eliminar las inconsistencias temprano, lo que puede reducir significativamente el tiempo de busqueda en el algoritmo de backtracking (GeeksforGeeks, 2023).     \n",
    "\n",
    "2. Defina en sus propias palabras el termino \"Arc Consistency\"     \n",
    "\n",
    "Arc Consistency se refiere a la propiedad en un problema de restricción donde los valores en el dominio de una variable son consistentes con las restricciones binarias que tienen con otras variables. Es decir, un arco (una conexion entre dos variables) se considera consistente si para el valor en el dominio de la variable A, hay al menos un valor en el dominio de la variable B que satisface la restricción binaria entre A y B. Por lo que podemos concluir que \"Arc Consistency\" es una medida de que tan restringido es el dominio de una variable basándose en las restricciones binarias que tienen con otras variables en un problema de restricción (British Columbia University, 2009).  \n",
    "\n",
    "\n",
    "\n",
    "Referencias\n",
    "- GeeksforGeeks. (2023, 20 de octubre). Backtracking Algorithms. GeeksforGeeks. https://www.geeksforgeeks.org/backtracking-algorithms/\n",
    "\n",
    "- British Columbia University. (2009, 10). CSP3: Backtracking Search. Department of Computer Science. https://www.cs.ubc.ca/~kevinlb/teaching/cs322%20-%202009-10/Lectures/CSP3.pdf"
   ]
  },
  {
   "cell_type": "markdown",
   "metadata": {},
   "source": [
    "## Task 2"
   ]
  },
  {
   "cell_type": "code",
   "execution_count": null,
   "metadata": {},
   "outputs": [
    {
     "name": "stdout",
     "output_type": "stream",
     "text": [
      "No se encontró ninguna solución válida.\n"
     ]
    }
   ],
   "source": [
    "# aun no funciona bien, solo estoy probando \n",
    "import itertools\n",
    "\n",
    "# Definir los exámenes y los días posibles\n",
    "exams = ['A', 'B', 'C', 'D', 'E', 'F', 'G']\n",
    "days = ['lunes', 'martes', 'miércoles']\n",
    "\n",
    "# Definir la función de restricción\n",
    "def constraints_satisfied(schedule):\n",
    "    for day in days:\n",
    "        exams_on_day = [exam for exam, scheduled_day in schedule.items() if scheduled_day == day]\n",
    "        if len(exams_on_day) > 1:\n",
    "            return False\n",
    "\n",
    "    students = {\n",
    "        'student1': ['A', 'B', 'C'],\n",
    "        'student2': ['B', 'C', 'D'],\n",
    "        'student3': ['C', 'D', 'E'],\n",
    "        'student4': ['D', 'E', 'F']\n",
    "    }\n",
    "\n",
    "    for student, student_exams in students.items():\n",
    "        student_schedule = []\n",
    "        for exam in student_exams:\n",
    "            if exam in schedule:\n",
    "                student_schedule.append(schedule[exam])\n",
    "            else:\n",
    "                student_schedule.append(None)\n",
    "        if len(set(student_schedule)) < len(student_schedule):\n",
    "            return False\n",
    "\n",
    "    return True\n",
    "\n",
    "# Generar todas las posibles asignaciones de exámenes a días\n",
    "all_assignments = list(itertools.product(days, repeat=len(exams)))\n",
    "\n",
    "# Verificar cada asignación y mostrar la solución si se encuentra una válida\n",
    "for assignment in all_assignments:\n",
    "    schedule = dict(zip(exams, assignment))\n",
    "    if constraints_satisfied(schedule):\n",
    "        print(\"Solución encontrada:\")\n",
    "        for exam, day in schedule.items():\n",
    "            print(\"Examen\", exam, \"programado para\", day + \".\")\n",
    "        break\n",
    "else:\n",
    "    print(\"No se encontró ninguna solución válida.\")"
   ]
  }
 ],
 "metadata": {
  "kernelspec": {
   "display_name": "base",
   "language": "python",
   "name": "python3"
  },
  "language_info": {
   "codemirror_mode": {
    "name": "ipython",
    "version": 3
   },
   "file_extension": ".py",
   "mimetype": "text/x-python",
   "name": "python",
   "nbconvert_exporter": "python",
   "pygments_lexer": "ipython3",
   "version": "3.11.7"
  }
 },
 "nbformat": 4,
 "nbformat_minor": 2
}
