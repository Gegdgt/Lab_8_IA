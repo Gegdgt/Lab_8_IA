{
 "cells": [
  {
   "cell_type": "markdown",
   "metadata": {},
   "source": [
    "# Laboratorio 8    \n",
    "## Inteligencia Artificial\n",
    "\n",
    "**Integrantes**\n",
    "- Gabriel García    - 21352     \n",
    "- Diego Leiva       - 21752   \n",
    "- Pablo Orellana    - xd"
   ]
  },
  {
   "cell_type": "markdown",
   "metadata": {},
   "source": [
    "----\n",
    "\n",
    "## Task 1: Teoría\n",
    "1. Investigar el algoritmo AC-3 y su relacion con el algoritmo de backtracking search       \n",
    "\n",
    "El algormitmo AC-3 (Algoritmo de conssitencia de Arcos-3) Se utiliza en resolucion de problemas de restricción para reducir el dominio de las variables. Se centra en eliminar los valores incosistentes de las variables basandose en restricciones binarias. AC-3 se relaciona con el algoritmo de backtracking search en el sentido de que AC-3 se utiliza a menudo con el preprocesamiento para reducir el espacio de busqueda antes de aplicar backtracking search. AC-3 ayuda a identificar y eliminar las inconsistencias temprano, lo que puede reducir significativamente el tiempo de busqueda en el algoritmo de backtracking (GeeksforGeeks, 2023).     \n",
    "\n",
    "2. Defina en sus propias palabras el termino \"Arc Consistency\"     \n",
    "\n",
    "Arc Consistency se refiere a la propiedad en un problema de restricción donde los valores en el dominio de una variable son consistentes con las restricciones binarias que tienen con otras variables. Es decir, un arco (una conexion entre dos variables) se considera consistente si para el valor en el dominio de la variable A, hay al menos un valor en el dominio de la variable B que satisface la restricción binaria entre A y B. Por lo que podemos concluir que \"Arc Consistency\" es una medida de que tan restringido es el dominio de una variable basándose en las restricciones binarias que tienen con otras variables en un problema de restricción (British Columbia University, 2009).  \n",
    "\n",
    "\n",
    "\n",
    "Referencias\n",
    "- GeeksforGeeks. (2023, 20 de octubre). Backtracking Algorithms. GeeksforGeeks. https://www.geeksforgeeks.org/backtracking-algorithms/\n",
    "\n",
    "- British Columbia University. (2009, 10). CSP3: Backtracking Search. Department of Computer Science. https://www.cs.ubc.ca/~kevinlb/teaching/cs322%20-%202009-10/Lectures/CSP3.pdf"
   ]
  },
  {
   "cell_type": "markdown",
   "metadata": {},
   "source": [
    "----\n",
    "\n",
    "## Task 2: CSP con Backtracking, Beam y Local Search"
   ]
  },
  {
   "cell_type": "markdown",
   "metadata": {},
   "source": [
    "**Importar librerias**"
   ]
  },
  {
   "cell_type": "code",
   "execution_count": 1,
   "metadata": {},
   "outputs": [],
   "source": [
    "import pandas as pd"
   ]
  },
  {
   "cell_type": "markdown",
   "metadata": {},
   "source": [
    "**Definicion del Problema**\n",
    "\n",
    "Calendarizacion de exámenes para cuatro estudiantes que toman siete exámenes diferentes. El problema implica calendarizar los exámenes para los estudiantes respetando diversas limitaciones y preferencias.\n",
    "\n",
    "Restricciones:\n",
    "- Todos los exámenes deberán realizarse en días diferentes, concretamente lunes, martes y miércoles.\n",
    "- Ningún estudiante deberá tener más de un examen por día.\n",
    "- Los estudiantes que toman el mismo curso no pueden tener exámenes programados para el mismo día."
   ]
  },
  {
   "cell_type": "code",
   "execution_count": 2,
   "metadata": {},
   "outputs": [],
   "source": [
    "# Datos del problema\n",
    "\n",
    "estudiantes = ['Estudiante 1', 'Estudiante 2', 'Estudiante 3', 'Estudiante 4']              # Lista de estudiantes\n",
    "dias = ['Lunes', 'Martes', 'Miercoles']                                                     # Lista de días                         \n",
    "cursos = ['Curso 1', 'Curso 2', 'Curso 3', 'Curso 4', 'Curso 5', 'Curso 6', 'Curso 7']      # Lista de los examenes"
   ]
  },
  {
   "cell_type": "markdown",
   "metadata": {},
   "source": [
    "### Algoritmo Backtrack"
   ]
  },
  {
   "cell_type": "code",
   "execution_count": 3,
   "metadata": {},
   "outputs": [
    {
     "data": {
      "text/html": [
       "<div>\n",
       "<style scoped>\n",
       "    .dataframe tbody tr th:only-of-type {\n",
       "        vertical-align: middle;\n",
       "    }\n",
       "\n",
       "    .dataframe tbody tr th {\n",
       "        vertical-align: top;\n",
       "    }\n",
       "\n",
       "    .dataframe thead th {\n",
       "        text-align: right;\n",
       "    }\n",
       "</style>\n",
       "<table border=\"1\" class=\"dataframe\">\n",
       "  <thead>\n",
       "    <tr style=\"text-align: right;\">\n",
       "      <th></th>\n",
       "      <th>Lunes</th>\n",
       "      <th>Martes</th>\n",
       "      <th>Miercoles</th>\n",
       "    </tr>\n",
       "  </thead>\n",
       "  <tbody>\n",
       "    <tr>\n",
       "      <th>Estudiante 1</th>\n",
       "      <td>Curso 1</td>\n",
       "      <td>Curso 2</td>\n",
       "      <td>Curso 3</td>\n",
       "    </tr>\n",
       "    <tr>\n",
       "      <th>Estudiante 2</th>\n",
       "      <td>Curso 2</td>\n",
       "      <td>Curso 1</td>\n",
       "      <td>Curso 4</td>\n",
       "    </tr>\n",
       "    <tr>\n",
       "      <th>Estudiante 3</th>\n",
       "      <td>Curso 3</td>\n",
       "      <td>Curso 4</td>\n",
       "      <td>Curso 1</td>\n",
       "    </tr>\n",
       "    <tr>\n",
       "      <th>Estudiante 4</th>\n",
       "      <td>Curso 4</td>\n",
       "      <td>Curso 3</td>\n",
       "      <td>Curso 2</td>\n",
       "    </tr>\n",
       "  </tbody>\n",
       "</table>\n",
       "</div>"
      ],
      "text/plain": [
       "                Lunes   Martes Miercoles\n",
       "Estudiante 1  Curso 1  Curso 2   Curso 3\n",
       "Estudiante 2  Curso 2  Curso 1   Curso 4\n",
       "Estudiante 3  Curso 3  Curso 4   Curso 1\n",
       "Estudiante 4  Curso 4  Curso 3   Curso 2"
      ]
     },
     "execution_count": 3,
     "metadata": {},
     "output_type": "execute_result"
    }
   ],
   "source": [
    "# Crear las variables y dominios\n",
    "variables = [(student, day) for student in estudiantes for day in dias]\n",
    "dominios = {var: cursos for var in variables}  # Todos los cursos están disponibles para todos inicialmente\n",
    "\n",
    "# Funciones para el algoritmo Backtracking\n",
    "def backtrack(assignment):\n",
    "    if len(assignment) == len(variables):\n",
    "        return assignment\n",
    "\n",
    "    var = select_unassigned_variable(assignment)\n",
    "    for value in order_domain_values(var, assignment):\n",
    "        if is_consistent(var, value, assignment):\n",
    "            assignment[var] = value\n",
    "            result = backtrack(assignment)\n",
    "            if result is not None:\n",
    "                return result\n",
    "            del assignment[var]\n",
    "    return None\n",
    "\n",
    "def select_unassigned_variable(assignment):\n",
    "    for var in variables:\n",
    "        if var not in assignment:\n",
    "            return var\n",
    "\n",
    "def order_domain_values(var, assignment):\n",
    "    student, _ = var\n",
    "    taken_courses = [value for (s, _), value in assignment.items() if s == student]\n",
    "    return [course for course in dominios[var] if course not in taken_courses]\n",
    "\n",
    "def is_consistent(var, value, assignment):\n",
    "    student, day = var\n",
    "    for (other_student, other_day), other_course in assignment.items():\n",
    "        if other_day == day and other_course == value and student != other_student:\n",
    "            return False\n",
    "    return True\n",
    "\n",
    "# Resolver el problema CSP\n",
    "asignacion_backtrack = {}\n",
    "solucion_backtrack = backtrack(asignacion_backtrack)\n",
    "\n",
    "# Crear y llenar la matriz de horarios\n",
    "backtrack_matrix = pd.DataFrame(index=estudiantes, columns=dias)\n",
    "if solucion_backtrack:\n",
    "    for (student, day), course in solucion_backtrack.items():\n",
    "        backtrack_matrix.at[student, day] = course\n",
    "\n",
    "# Imprimir la matriz de horarios\n",
    "backtrack_matrix"
   ]
  }
 ],
 "metadata": {
  "kernelspec": {
   "display_name": "base",
   "language": "python",
   "name": "python3"
  },
  "language_info": {
   "codemirror_mode": {
    "name": "ipython",
    "version": 3
   },
   "file_extension": ".py",
   "mimetype": "text/x-python",
   "name": "python",
   "nbconvert_exporter": "python",
   "pygments_lexer": "ipython3",
   "version": "3.11.6"
  }
 },
 "nbformat": 4,
 "nbformat_minor": 2
}
